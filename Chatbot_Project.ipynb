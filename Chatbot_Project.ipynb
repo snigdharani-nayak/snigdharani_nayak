{
  "nbformat": 4,
  "nbformat_minor": 0,
  "metadata": {
    "colab": {
      "name": "Chatbot_Project.ipynb",
      "provenance": [],
      "authorship_tag": "ABX9TyP4tiedfr+i/PCPoiY7bf9A",
      "include_colab_link": true
    },
    "kernelspec": {
      "name": "python3",
      "display_name": "Python 3"
    },
    "language_info": {
      "name": "python"
    }
  },
  "cells": [
    {
      "cell_type": "markdown",
      "metadata": {
        "id": "view-in-github",
        "colab_type": "text"
      },
      "source": [
        "<a href=\"https://colab.research.google.com/github/snigdharani-nayak/snigdharani_nayak/blob/main/Chatbot_Project.ipynb\" target=\"_parent\"><img src=\"https://colab.research.google.com/assets/colab-badge.svg\" alt=\"Open In Colab\"/></a>"
      ]
    },
    {
      "cell_type": "markdown",
      "metadata": {
        "id": "DybfiF6qEthV"
      },
      "source": [
        "Name:-Snigdharani Nayak\n",
        "\n",
        "Intern at The intern Academy."
      ]
    },
    {
      "cell_type": "markdown",
      "metadata": {
        "id": "g9EvNvxo_auF"
      },
      "source": [
        " What is Chabot? \n",
        "\n",
        "\n",
        " \n",
        "An artificial intelligence developed to collect or provide online information to customers or learners interactively."
      ]
    },
    {
      "cell_type": "code",
      "metadata": {
        "id": "KJmUtVUcA30r"
      },
      "source": [
        "import nltk\n",
        "import numpy as np\n",
        "import random\n",
        "import string"
      ],
      "execution_count": null,
      "outputs": []
    },
    {
      "cell_type": "code",
      "metadata": {
        "id": "ZABYY5ufAzg1"
      },
      "source": [
        "f=open('/content/intent.json','r',errors = 'ignore')\n",
        "raw=f.read\n",
        "\n",
        "nltk.download('punkt')\n",
        "nltk.download('wordnet')"
      ],
      "execution_count": null,
      "outputs": []
    },
    {
      "cell_type": "code",
      "metadata": {
        "id": "REoa8QqnCH9p"
      },
      "source": [
        "from nltk.tag import pos_tag\n",
        "from nltk.tokenize import word_tokenize\n",
        "from nltk.stem import WordNetLemmatizer"
      ],
      "execution_count": 1,
      "outputs": []
    },
    {
      "cell_type": "code",
      "metadata": {
        "id": "1vOeXT5MCP-h"
      },
      "source": [
        "lemmer = nltk.stem.WordNetLemmatizer()\n",
        "\n",
        "def lemtokens(tokens):\n",
        "  return [lemmer.lemmatize(token) for token in tokens]\n",
        "remove_punct_dict = dict((ord(punct), None) for punct in string.punctuation)\n",
        "\n",
        "def lemNormalize(text):\n",
        "  return lemtokens(nltk.word_tokenize(text.lower().translate(remove_punct_dict)))"
      ],
      "execution_count": null,
      "outputs": []
    },
    {
      "cell_type": "code",
      "metadata": {
        "id": "wqCdNfQ1CRJ5"
      },
      "source": [
        "GREETING_INPUTS = ('hello', 'hi', 'greetings', 'sup', \"what's up\", 'hey',)\n",
        "GREETING_RESPONSES = ['hi', 'hey', 'nods', ' hi there','hello']\n",
        "def greeting(sentence):\n",
        "  for word in sentence.split():\n",
        "    if word.lower() in GREETING_INPUTS:\n",
        "      return random.choice(GREETING_RESPONSES)"
      ],
      "execution_count": null,
      "outputs": []
    },
    {
      "cell_type": "code",
      "metadata": {
        "id": "WPezAklUCZKD"
      },
      "source": [
        "from sklearn.feature_extraction.text import TfidfVectorizer\n",
        "from sklearn.metrics.pairwise import cosine_similarity"
      ],
      "execution_count": null,
      "outputs": []
    },
    {
      "cell_type": "code",
      "metadata": {
        "id": "z-hglZSSCfFD"
      },
      "source": [
        "def response(user_response):\n",
        "  robo_response=''\n",
        "  sent_tokens.append(user_response)\n",
        "  TfidVec = TfidfVectorizer(tokenizer=LemNormalize, stop_words='english')\n",
        "  tfidf= TfidfVec.fit.transform(sent_tokens)\n",
        "  vals = cosine_similarity(tfidf[-1], tfidf)\n",
        "  idx = vals.argsort()[0][-2]\n",
        "  flat = vlas.flatten()\n",
        "  flat.sort()\n",
        "  reg_tfidf = flat[-2]\n",
        "  if(reg_tfidf==0):\n",
        "    robo_response = robo_response+\"I am sorry! I don't understand you\"\n",
        "    return robo_response\n",
        "  else:\n",
        "    robo_response = robo_response+\"sent_tokens[idx]\"\n",
        "  return robo_response"
      ],
      "execution_count": null,
      "outputs": []
    },
    {
      "cell_type": "code",
      "metadata": {
        "colab": {
          "base_uri": "https://localhost:8080/"
        },
        "id": "IF6_GTIDCit_",
        "outputId": "caf580b7-88f5-4a00-c027-ae6e0ea7b308"
      },
      "source": [
        "flag=True\n",
        "print(\"Chatbot: My name is Snigdha! I can help you with Chatbots. If you want to quit, just type Bye anytime!!\")\n",
        "while(flag==True):\n",
        "  user_response = input()\n",
        "  user_response = user_response.lower()\n",
        "  if(user_response!='bye'):\n",
        "    if(user_response=='thanks' or user_response=='thank you'):\n",
        "      flag=False\n",
        "      print(\"Snigdha: You're welcome!\")\n",
        "    else:\n",
        "      if(greeting(user_response)!=None):\n",
        "        print(\"Snigdha: \"+greeting(user_response))\n",
        "      else:\n",
        "        print(\"Snigdha: \", end=\"Can't understand you\")\n",
        "  else:\n",
        "    flag=False\n",
        "    print(\"Snigdha: Thanks for talking, bye bye!\")"
      ],
      "execution_count": 5,
      "outputs": [
        {
          "output_type": "stream",
          "text": [
            "Chatbot: My name is Snigdha! I can help you with Chatbots. If you want to quit, just type Bye anytime!!\n",
            "bye\n",
            "Snigdha: Thanks for talking, bye bye!\n"
          ],
          "name": "stdout"
        }
      ]
    }
  ]
}